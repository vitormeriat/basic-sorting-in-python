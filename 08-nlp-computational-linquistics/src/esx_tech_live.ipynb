{
 "cells": [
  {
   "cell_type": "code",
   "execution_count": null,
   "metadata": {},
   "outputs": [],
   "source": [
    "#pip install spacy\n",
    "\n",
    "#spacy download en # english model\n",
    "#spacy download de # german model\n",
    "#spacy download es # spanish model\n",
    "#spacy download fr # french model\n",
    "#spacy download xx # multi-language model"
   ]
  },
  {
   "cell_type": "markdown",
   "metadata": {},
   "source": [
    "# Basic life cycle\n",
    "\n",
    "![01](img/02.png)"
   ]
  },
  {
   "cell_type": "code",
   "execution_count": 1,
   "metadata": {},
   "outputs": [],
   "source": [
    "import spacy\n",
    "\n",
    "nlp = spacy.load('pt')"
   ]
  },
  {
   "cell_type": "markdown",
   "metadata": {},
   "source": [
    "# Preprocessing"
   ]
  },
  {
   "cell_type": "code",
   "execution_count": 2,
   "metadata": {
    "scrolled": true
   },
   "outputs": [
    {
     "name": "stdout",
     "output_type": "stream",
     "text": [
      "{'dá', 'daquele', 'caminho', 'tanto', 'baixo', 'vindo', 'dezassete', 'momento', 'após', 'possivelmente', 'veja', 'tive', 'estas', 'dois', 'terceira', 'muito', 'enquanto', 'essas', 'maioria', 'esse', 'além', 'cujo', 'este', 'catorze', 'somente', 'desse', 'alguns', 'fui', 'sobre', 'vinda', 'foste', 'toda', 'puderam', 'nosso', 'oitavo', 'são', 'nova', 'ainda', 'inicio', 'ambas', 'mês', 'somos', 'faço', 'todo', 'bem', 'nesse', 'sim', 'minhas', 'contra', 'porque', 'ora', 'números', 'poderá', 'tiveram', 'sistema', 'des', 'depois', 'tens', 'cinco', 'seis', 'neste', 'local', 'tivestes', 'oitava', 'todas', 'favor', 'posição', 'essa', 'querem', 'cada', 'tenho', 'nos', 'nove', 'por', 'doze', 'sexto', 'esses', 'te', 'meio', 'grande', 'esta', 'ponto', 'falta', 'todos', 'dezanove', 'eventual', 'mesmo', 'conhecido', 'novas', 'treze', 'questão', 'mas', 'pelas', 'embora', 'fora', 'pouca', 'vocês', 'ou', 'em', 'fará', 'lhe', 'nenhuma', 'de', 'aos', 'nossa', 'qual', 'menor', 'fez', 'sois', 'sob', 'fim', 'naquela', 'contudo', 'estava', 'dezasseis', 'ser', 'vêm', 'tal', 'fazia', 'diante', 'tiveste', 'podia', 'seu', 'mais', 'tentar', 'terceiro', 'acerca', 'isto', 'está', 'quarto', 'novo', 'dez', 'das', 'como', 'minha', 'sem', 'devem', 'nesta', 'tu', 'dessa', 'quais', 'deve', 'seus', 'nem', 'estiveste', 'era', 'bom', 'irá', 'vinte', 'naquele', 'deste', 'nuns', 'quatro', 'estar', 'talvez', 'número', 'quieta', 'com', 'meses', 'primeira', 'você', 'portanto', 'aí', 'sabe', 'põem', 'teu', 'dizer', 'três', 'no', 'numa', 'quanto', 'ademais', 'obrigado', 'máximo', 'atrás', 'umas', 'saber', 'coisa', 'nível', 'conselho', 'quinze', 'outros', 'ver', 'porquanto', 'vai', 'estive', 'algo', 'parte', 'bastante', 'ir', 'esteve', 'porquê', 'boa', 'quer', 'meu', 'estivemos', 'nossas', 'quem', 'tem', 'segundo', 'poder', 'possível', 'sempre', 'pouco', 'põe', 'conhecida', 'pelos', 'novos', 'vosso', 'certeza', 'quieto', 'estás', 'tanta', 'vos', 'que', 'às', 'tivemos', 'da', 'diz', 'vais', 'sei', 'aquelas', 'entre', 'oito', 'quinto', 'vossa', 'qualquer', 'custa', 'podem', 'lugar', 'ter', 'comprido', 'sexta', 'debaixo', 'ontem', 'breve', 'apenas', 'sete', 'estão', 'agora', 'uma', 'faz', 'cedo', 'sou', 'vários', 'ligado', 'antes', 'último', 'perto', 'apoia', 'tudo', 'tua', 'logo', 'nós', 'ela', 'estiveram', 'final', 'pelo', 'quero', 'povo', 'tais', 'valor', 'apontar', 'estou', 'seria', 'tente', 'próprio', 'foi', 'posso', 'sétima', 'suas', 'fomos', 'vez', 'aquela', 'tempo', 'nessa', 'demais', 'os', 'ele', 'teve', 'pode', 'onde', 'usar', 'foram', 'área', 'outras', 'assim', 'forma', 'dão', 'obrigada', 'usa', 'quando', 'zero', 'cá', 'iniciar', 'vossas', 'à', 'para', 'é', 'longe', 'estado', 'algumas', 'certamente', 'dizem', 'meus', 'cima', 'tuas', 'fazer', 'adeus', 'dar', 'pela', 'sétimo', 'ali', 'fazemos', 'quarta', 'aquilo', 'sua', 'tarde', 'pontos', 'também', 'nossos', 'estará', 'vens', 'relação', 'tão', 'vezes', 'porém', 'fazeis', 'inclusive', 'dentro', 'quinta', 'segunda', 'através', 'és', 'eles', 'num', 'for', 'menos', 'então', 'próxima', 'até', 'onze', 'estivestes', 'vós', 'temos', 'fazem', 'cuja', 'do', 'fostes', 'muitos', 'pois', 'aquele', 'nas', 'estes', 'corrente', 'as', 'elas', 'pôde', 'direita', 'grupo', 'outra', 'parece', 'ao', 'mal', 'dezoito', 'tentei', 'exemplo', 'um', 'ambos', 'teus', 'vossos', 'dos', 'cento', 'tipo', 'desde', 'uns', 'têm', 'aqueles', 'duas', 'comprida', 'vão', 'partir', 'aqui', 'primeiro', 'mil', 'na', 'não', 'eu', 'me', 'lá', 'tentaram', 'deverá', 'apoio', 'tendes', 'maior', 'daquela', 'se', 'vem', 'quê', 'só', 'próximo', 'já', 'geral', 'desta', 'maiorias', 'disso', 'nada', 'pegar', 'grandes', 'isso', 'lado', 'nunca', 'fazes'}\n"
     ]
    }
   ],
   "source": [
    "from spacy.lang.pt.stop_words import STOP_WORDS\n",
    "\n",
    "print(STOP_WORDS)"
   ]
  },
  {
   "cell_type": "code",
   "execution_count": 3,
   "metadata": {},
   "outputs": [
    {
     "name": "stdout",
     "output_type": "stream",
     "text": [
      "Quantidade de tokens em PT-BR:  413\n"
     ]
    }
   ],
   "source": [
    "print('Quantidade de tokens em PT-BR: ', len(STOP_WORDS))"
   ]
  },
  {
   "cell_type": "code",
   "execution_count": 4,
   "metadata": {},
   "outputs": [
    {
     "name": "stdout",
     "output_type": "stream",
     "text": [
      "Quantidade de tokens em PT-BR:  419\n"
     ]
    }
   ],
   "source": [
    "my_stop_words = ['www', 'io', 'net', 'ai', 'org', 'edu']\n",
    "for stopword in my_stop_words:\n",
    "    STOP_WORDS.add(stopword)\n",
    "\n",
    "print('Quantidade de tokens em PT-BR: ', len(STOP_WORDS))"
   ]
  },
  {
   "cell_type": "markdown",
   "metadata": {},
   "source": [
    "## Tokenizing\n",
    "\n",
    "| 0 | 1 | 2 | 3 | 4 | 5 |\n",
    "| --- | --- | --- | --- | --- | --- |\n",
    "| Let | 's | go | to | N.Y. | ! |"
   ]
  },
  {
   "cell_type": "code",
   "execution_count": 5,
   "metadata": {},
   "outputs": [
    {
     "data": {
      "text/plain": [
       "Então Angelo, você encontrou o livro que eu te falei no www.minhabiblioteca.net? Eu o encontrei ontem, até os estagiários encontraram, quer que eu te ajude?"
      ]
     },
     "execution_count": 5,
     "metadata": {},
     "output_type": "execute_result"
    }
   ],
   "source": [
    "doc = nlp('Então Angelo, você encontrou o livro que eu te falei no www.minhabiblioteca.net? Eu o encontrei ontem, até os estagiários encontraram, quer que eu te ajude?')\n",
    "doc"
   ]
  },
  {
   "cell_type": "code",
   "execution_count": 6,
   "metadata": {
    "scrolled": false
   },
   "outputs": [
    {
     "data": {
      "text/plain": [
       "['Então',\n",
       " 'Angelo,',\n",
       " 'você',\n",
       " 'encontrou',\n",
       " 'o',\n",
       " 'livro',\n",
       " 'que',\n",
       " 'eu',\n",
       " 'te',\n",
       " 'falei',\n",
       " 'no',\n",
       " 'www.minhabiblioteca.net?',\n",
       " 'Eu',\n",
       " 'o',\n",
       " 'encontrei',\n",
       " 'ontem,',\n",
       " 'até',\n",
       " 'os',\n",
       " 'estagiários',\n",
       " 'encontraram,',\n",
       " 'quer',\n",
       " 'que',\n",
       " 'eu',\n",
       " 'te',\n",
       " 'ajude?']"
      ]
     },
     "execution_count": 6,
     "metadata": {},
     "output_type": "execute_result"
    }
   ],
   "source": [
    "doc.text.split()"
   ]
  },
  {
   "cell_type": "markdown",
   "metadata": {},
   "source": [
    "![07](img/07.png)"
   ]
  },
  {
   "cell_type": "code",
   "execution_count": 7,
   "metadata": {},
   "outputs": [
    {
     "data": {
      "text/plain": [
       "[Então,\n",
       " Angelo,\n",
       " ,,\n",
       " você,\n",
       " encontrou,\n",
       " o,\n",
       " livro,\n",
       " que,\n",
       " eu,\n",
       " te,\n",
       " falei,\n",
       " no,\n",
       " www.minhabiblioteca.net,\n",
       " ?,\n",
       " Eu,\n",
       " o,\n",
       " encontrei,\n",
       " ontem,\n",
       " ,,\n",
       " até,\n",
       " os,\n",
       " estagiários,\n",
       " encontraram,\n",
       " ,,\n",
       " quer,\n",
       " que,\n",
       " eu,\n",
       " te,\n",
       " ajude,\n",
       " ?]"
      ]
     },
     "execution_count": 7,
     "metadata": {},
     "output_type": "execute_result"
    }
   ],
   "source": [
    "[token for token in doc]"
   ]
  },
  {
   "cell_type": "code",
   "execution_count": 8,
   "metadata": {},
   "outputs": [
    {
     "name": "stdout",
     "output_type": "stream",
     "text": [
      "[Então, Angelo, encontrou, o, livro, falei, www.minhabiblioteca.net, Eu, o, encontrei, estagiários, encontraram, ajude]\n"
     ]
    }
   ],
   "source": [
    "sentence = []\n",
    "for w in doc:\n",
    "    #token = w.lower()\n",
    "    # verifica se não é uma pontuação ou uma stopword\n",
    "    if not w.is_stop and not w.is_punct and not w.like_num:\n",
    "        sentence.append(w)\n",
    "        #sentence.append(w.lemma_)\n",
    "print(sentence)"
   ]
  },
  {
   "cell_type": "markdown",
   "metadata": {},
   "source": [
    "# Part-of-speech (POS) – tagging\n",
    "### Análise de classes gramaticais\n",
    "\n",
    "![05](img/05.png)\n",
    "\n",
    "#### Hidden Markov model\n",
    "* ref: https://en.wikipedia.org/wiki/Hidden_Markov_model\n",
    "\n",
    "![04](img/04.png)"
   ]
  },
  {
   "cell_type": "code",
   "execution_count": 9,
   "metadata": {},
   "outputs": [
    {
     "name": "stdout",
     "output_type": "stream",
     "text": [
      "('Eu', 'INTJ')\n",
      "('e', 'CCONJ')\n",
      "('o', 'DET')\n",
      "('Angelo', 'PROPN')\n",
      "('vamos', 'VERB')\n",
      "('a', 'ADP')\n",
      "('o', 'DET')\n",
      "('parque', 'NOUN')\n",
      "('.', 'PUNCT')\n"
     ]
    }
   ],
   "source": [
    "doc = nlp('Eu e o Angelo vamos ao parque.')\n",
    "\n",
    "for token in doc:\n",
    "    print((token.text, token.pos_))"
   ]
  },
  {
   "cell_type": "code",
   "execution_count": 10,
   "metadata": {},
   "outputs": [
    {
     "data": {
      "text/plain": [
       "[encontrou, falei, encontrei, encontraram, quer, ajude]"
      ]
     },
     "execution_count": 10,
     "metadata": {},
     "output_type": "execute_result"
    }
   ],
   "source": [
    "doc = nlp('Então Angelo, você encontrou o livro que eu te falei no www.minhabiblioteca.net? Eu o encontrei ontem, até os estagiários encontraram, quer que eu te ajude?')\n",
    "\n",
    "[token for token in doc if token.pos_ == 'VERB']"
   ]
  },
  {
   "cell_type": "code",
   "execution_count": 11,
   "metadata": {},
   "outputs": [
    {
     "name": "stdout",
     "output_type": "stream",
     "text": [
      "\n",
      "O termo encontrar é a raíz do termo encontrei? resposta: True\n",
      "O termo encontrar é a raíz do termo fala? resposta: False\n",
      "O termo fala é a raíz do termo falando? resposta: True\n"
     ]
    }
   ],
   "source": [
    "doc = nlp('encontrar encontrei fala falando')\n",
    "tokens = [token for token in doc]\n",
    "\n",
    "print('\\nO termo {} é a raíz do termo {}? resposta: {}'.format(\n",
    "    tokens[0], tokens[1], tokens[0].is_ancestor(tokens[1])))\n",
    "\n",
    "print('O termo {} é a raíz do termo {}? resposta: {}'.format(\n",
    "    tokens[0], tokens[2], tokens[0].is_ancestor(tokens[2])))\n",
    "\n",
    "print('O termo {} é a raíz do termo {}? resposta: {}'.format(\n",
    "    tokens[2], tokens[3], tokens[2].is_ancestor(tokens[3])))"
   ]
  },
  {
   "cell_type": "code",
   "execution_count": 13,
   "metadata": {},
   "outputs": [
    {
     "data": {
      "text/plain": [
       "<matplotlib.axes._subplots.AxesSubplot at 0x26de56f76a0>"
      ]
     },
     "execution_count": 13,
     "metadata": {},
     "output_type": "execute_result"
    },
    {
     "data": {
      "image/png": "[encoded data removed]",
      "text/plain": [
       "<Figure size 432x288 with 1 Axes>"
      ]
     },
     "metadata": {
      "needs_background": "light"
     },
     "output_type": "display_data"
    }
   ],
   "source": [
    "import pandas as pd\n",
    "nlp_for_harry = spacy.load(\"en\")\n",
    "\n",
    "harry_potter = open(\"HP1.txt\").read()\n",
    "hp = nlp_for_harry(harry_potter)\n",
    "hpSents = list(hp.sents)\n",
    "hpSentenceLengths = [len(sent) for sent in hpSents]\n",
    "[sent for sent in hpSents if len(sent) == max(hpSentenceLengths)]\n",
    "hpPOS = pd.Series(hp.count_by(spacy.attrs.POS))/len(hp)\n",
    " \n",
    "tagDict = {w.pos: w.pos_ for w in hp}\n",
    "hpPOS = pd.Series(hp.count_by(spacy.attrs.POS))/len(hp)\n",
    "df = pd.DataFrame([hpPOS], index=['Harry Potter'])\n",
    "df.columns = [tagDict[column] for column in df.columns]\n",
    "df.T.plot(kind='bar')"
   ]
  },
  {
   "cell_type": "markdown",
   "metadata": {},
   "source": [
    "# Named entity recognition (NER)\n",
    "\n",
    "![06](img/06.png)"
   ]
  },
  {
   "cell_type": "code",
   "execution_count": 15,
   "metadata": {},
   "outputs": [
    {
     "name": "stdout",
     "output_type": "stream",
     "text": [
      "Maria Mercedes 2 16 PER\n",
      "Mercedes Benz 38 51 ORG\n"
     ]
    }
   ],
   "source": [
    "#doc = nlp('Microsoft possui escritórios em toda a Europa.')\n",
    "#doc = nlp('A Mercedes é uma grande empresa.')\n",
    "doc = nlp('A Maria Mercedes comprou trabalhou na Mercedes Benz.')\n",
    "\n",
    "for ent in doc.ents:\n",
    "    print(ent.text, ent.start_char, ent.end_char, ent.label_)"
   ]
  },
  {
   "cell_type": "code",
   "execution_count": null,
   "metadata": {},
   "outputs": [],
   "source": []
  },
  {
   "cell_type": "code",
   "execution_count": null,
   "metadata": {},
   "outputs": [],
   "source": []
  }
 ],
 "metadata": {
  "kernelspec": {
   "display_name": "Python 3",
   "language": "python",
   "name": "python3"
  },
  "language_info": {
   "codemirror_mode": {
    "name": "ipython",
    "version": 3
   },
   "file_extension": ".py",
   "mimetype": "text/x-python",
   "name": "python",
   "nbconvert_exporter": "python",
   "pygments_lexer": "ipython3",
   "version": "3.6.7"
  }
 },
 "nbformat": 4,
 "nbformat_minor": 2
}
