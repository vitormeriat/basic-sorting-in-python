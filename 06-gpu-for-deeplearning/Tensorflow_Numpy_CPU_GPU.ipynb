{
 "cells": [
  {
   "cell_type": "markdown",
   "metadata": {},
   "source": [
    "# GPU x CPU \n",
    "### Teste de performance utilizando Tensorflow\n",
    "Código criado para os testes do artigo **GPU for Deep Learning** em [vitormeriat.com.br/2018/09/27/gpu-for-deeplearning](http://www.vitormeriat.com.br/2018/09/27/gpu-for-deeplearning/)."
   ]
  },
  {
   "cell_type": "code",
   "execution_count": 1,
   "metadata": {
    "collapsed": true
   },
   "outputs": [],
   "source": [
    "import sys\n",
    "import numpy as np\n",
    "import tensorflow as tf\n",
    "from datetime import datetime"
   ]
  },
  {
   "cell_type": "markdown",
   "metadata": {},
   "source": [
    "### Verificando a GPU"
   ]
  },
  {
   "cell_type": "code",
   "execution_count": 2,
   "metadata": {
    "scrolled": false
   },
   "outputs": [
    {
     "name": "stdout",
     "output_type": "stream",
     "text": [
      "Architecture:          x86_64\r\n",
      "CPU op-mode(s):        32-bit, 64-bit\r\n",
      "Byte Order:            Little Endian\r\n",
      "CPU(s):                6\r\n",
      "On-line CPU(s) list:   0-5\r\n",
      "Thread(s) per core:    1\r\n",
      "Core(s) per socket:    6\r\n",
      "Socket(s):             1\r\n",
      "NUMA node(s):          1\r\n",
      "Vendor ID:             GenuineIntel\r\n",
      "CPU family:            6\r\n",
      "Model:                 63\r\n",
      "Model name:            Intel(R) Xeon(R) CPU E5-2690 v3 @ 2.60GHz\r\n",
      "Stepping:              2\r\n",
      "CPU MHz:               2596.994\r\n",
      "BogoMIPS:              5193.98\r\n",
      "Hypervisor vendor:     Microsoft\r\n",
      "Virtualization type:   full\r\n",
      "L1d cache:             32K\r\n",
      "L1i cache:             32K\r\n",
      "L2 cache:              256K\r\n",
      "L3 cache:              30720K\r\n",
      "NUMA node0 CPU(s):     0-5\r\n",
      "Flags:                 fpu vme de pse tsc msr pae mce cx8 apic sep mtrr pge mca cmov pat pse36 clflush mmx fxsr sse sse2 ss ht syscall nx pdpe1gb rdtscp lm constant_tsc rep_good nopl xtopology cpuid pni pclmulqdq ssse3 fma cx16 pcid sse4_1 sse4_2 movbe popcnt aes xsave avx f16c rdrand hypervisor lahf_lm abm invpcid_single pti fsgsbase bmi1 avx2 smep bmi2 erms invpcid xsaveopt\r\n"
     ]
    }
   ],
   "source": [
    "!lscpu"
   ]
  },
  {
   "cell_type": "code",
   "execution_count": 3,
   "metadata": {},
   "outputs": [
    {
     "name": "stdout",
     "output_type": "stream",
     "text": [
      "0000:00:00.0 Host bridge: Intel Corporation 440BX/ZX/DX - 82443BX/ZX/DX Host bridge (AGP disabled) (rev 03)\r\n",
      "0000:00:07.0 ISA bridge: Intel Corporation 82371AB/EB/MB PIIX4 ISA (rev 01)\r\n",
      "0000:00:07.1 IDE interface: Intel Corporation 82371AB/EB/MB PIIX4 IDE (rev 01)\r\n",
      "0000:00:07.3 Bridge: Intel Corporation 82371AB/EB/MB PIIX4 ACPI (rev 02)\r\n",
      "0000:00:08.0 VGA compatible controller: Microsoft Corporation Hyper-V virtual VGA\r\n",
      "e0e1:00:00.0 3D controller: NVIDIA Corporation GK210GL [Tesla K80] (rev a1)\r\n"
     ]
    }
   ],
   "source": [
    "!lspci\n",
    "#!lspci -v | grep \"3D\" -A 12"
   ]
  },
  {
   "cell_type": "code",
   "execution_count": 4,
   "metadata": {},
   "outputs": [
    {
     "data": {
      "text/plain": [
       "True"
      ]
     },
     "execution_count": 4,
     "metadata": {},
     "output_type": "execute_result"
    }
   ],
   "source": [
    "from tensorflow.python.client import device_lib\n",
    "\n",
    "tf.test.is_gpu_available()"
   ]
  },
  {
   "cell_type": "code",
   "execution_count": 5,
   "metadata": {},
   "outputs": [
    {
     "data": {
      "text/plain": [
       "[name: \"/device:CPU:0\"\n",
       " device_type: \"CPU\"\n",
       " memory_limit: 268435456\n",
       " locality {\n",
       " }\n",
       " incarnation: 668097085573383147, name: \"/device:GPU:0\"\n",
       " device_type: \"GPU\"\n",
       " memory_limit: 11281927373\n",
       " locality {\n",
       "   bus_id: 1\n",
       "   links {\n",
       "   }\n",
       " }\n",
       " incarnation: 3535949983722528147\n",
       " physical_device_desc: \"device: 0, name: Tesla K80, pci bus id: e0e1:00:00.0, compute capability: 3.7\"]"
      ]
     },
     "execution_count": 5,
     "metadata": {},
     "output_type": "execute_result"
    }
   ],
   "source": [
    "device_lib.list_local_devices()"
   ]
  },
  {
   "cell_type": "code",
   "execution_count": 6,
   "metadata": {},
   "outputs": [
    {
     "name": "stdout",
     "output_type": "stream",
     "text": [
      "Sat Sep 29 21:14:49 2018       \r\n",
      "+-----------------------------------------------------------------------------+\r\n",
      "| NVIDIA-SMI 410.48                 Driver Version: 410.48                    |\r\n",
      "|-------------------------------+----------------------+----------------------+\r\n",
      "| GPU  Name        Persistence-M| Bus-Id        Disp.A | Volatile Uncorr. ECC |\r\n",
      "| Fan  Temp  Perf  Pwr:Usage/Cap|         Memory-Usage | GPU-Util  Compute M. |\r\n",
      "|===============================+======================+======================|\r\n",
      "|   0  Tesla K80           Off  | 0000E0E1:00:00.0 Off |                    0 |\r\n",
      "| N/A   42C    P0    71W / 149W |  10877MiB / 11441MiB |      0%      Default |\r\n",
      "+-------------------------------+----------------------+----------------------+\r\n",
      "                                                                               \r\n",
      "+-----------------------------------------------------------------------------+\r\n",
      "| Processes:                                                       GPU Memory |\r\n",
      "|  GPU       PID   Type   Process name                             Usage      |\r\n",
      "|=============================================================================|\r\n",
      "|    0     28721      C   /home/meriat/anaconda3/bin/python          10864MiB |\r\n",
      "+-----------------------------------------------------------------------------+\r\n"
     ]
    }
   ],
   "source": [
    "!nvidia-smi"
   ]
  },
  {
   "cell_type": "markdown",
   "metadata": {},
   "source": [
    "### Definição do shape utilizado para criação da matriz"
   ]
  },
  {
   "cell_type": "code",
   "execution_count": 11,
   "metadata": {
    "collapsed": true
   },
   "outputs": [],
   "source": [
    "#shapeMtx = 50\n",
    "#shapeMtx = 10000\n",
    "shapeMtx = 20000"
   ]
  },
  {
   "cell_type": "markdown",
   "metadata": {},
   "source": [
    "# Numpy CPU"
   ]
  },
  {
   "cell_type": "code",
   "execution_count": 15,
   "metadata": {},
   "outputs": [
    {
     "name": "stdout",
     "output_type": "stream",
     "text": [
      "Numpy Version: 1.13.3 \n",
      "\n",
      "Subtract time:\t 0:00:09.057307\n",
      "Divide time:\t 0:00:09.451058\n",
      "Multiply time:\t 0:00:09.791327\n",
      "\n",
      "Shape: 10000 \n",
      "\n",
      "CPU times: user 9.06 s, sys: 740 ms, total: 9.8 s\n",
      "Wall time: 9.79 s\n"
     ]
    }
   ],
   "source": [
    "%%time\n",
    "\n",
    "print(\"Numpy Version:\", np.__version__, '\\n')\n",
    "\n",
    "startTime = datetime.now()\n",
    "A=np.random.normal(size=(shapeMtx, shapeMtx))\n",
    "B=np.random.normal(size=(shapeMtx, shapeMtx))\n",
    "\n",
    "subtract = np.subtract(A, B)\n",
    "print(\"Subtract time:\\t\", datetime.now() - startTime)\n",
    "add = np.divide(A, B)\n",
    "print(\"Divide time:\\t\", datetime.now() - startTime)\n",
    "multiply = np.multiply(A, B)\n",
    "print(\"Multiply time:\\t\", datetime.now() - startTime)\n",
    "\n",
    "print(\"\\nShape:\", shapeMtx, '\\n')"
   ]
  },
  {
   "cell_type": "markdown",
   "metadata": {},
   "source": [
    "## Tensorflow CPU"
   ]
  },
  {
   "cell_type": "code",
   "execution_count": 16,
   "metadata": {},
   "outputs": [
    {
     "name": "stdout",
     "output_type": "stream",
     "text": [
      "Tensorflow Version: 1.10.0 \n",
      "\n",
      "subtract time:\t 0:00:00.268926\n",
      "divide time:\t 0:00:00.536718\n",
      "multiply time:\t 0:00:00.800083\n",
      "\n",
      "Shape: (10000, 10000) Device: /cpu:0 \n",
      "\n",
      "CPU times: user 3.87 s, sys: 524 ms, total: 4.4 s\n",
      "Wall time: 816 ms\n"
     ]
    }
   ],
   "source": [
    "%%time\n",
    "\n",
    "device_name = \"/cpu:0\"\n",
    "\n",
    "shape = (shapeMtx, shapeMtx)\n",
    "\n",
    "print(\"Tensorflow Version:\", tf.__version__, '\\n')\n",
    "\n",
    "with tf.device(device_name):\n",
    "    A = tf.random_uniform(shape=shape, minval=0, maxval=1)\n",
    "    B = tf.random_uniform(shape=shape, minval=0, maxval=1)\n",
    "    \n",
    "    subtract_operation = tf.subtract(A, B)\n",
    "    divide_operation = tf.divide(A, B)\n",
    "    multiply_operation = tf.multiply(A, B)\n",
    "\n",
    "startTime = datetime.now()\n",
    "with tf.Session(config=tf.ConfigProto(allow_soft_placement=True, log_device_placement=True)) as session:\n",
    "    session.run(subtract_operation)\n",
    "    print(\"subtract time:\\t\", datetime.now() - startTime)\n",
    "    session.run(divide_operation)\n",
    "    print(\"divide time:\\t\", datetime.now() - startTime)\n",
    "    session.run(multiply_operation)\n",
    "    print(\"multiply time:\\t\", datetime.now() - startTime)\n",
    "\n",
    "print(\"\\nShape:\", shape, \"Device:\", device_name, '\\n')"
   ]
  },
  {
   "cell_type": "markdown",
   "metadata": {},
   "source": [
    "## Tensorflow GPU"
   ]
  },
  {
   "cell_type": "code",
   "execution_count": 17,
   "metadata": {},
   "outputs": [
    {
     "name": "stdout",
     "output_type": "stream",
     "text": [
      "Tensorflow Version: 1.10.0 \n",
      "\n",
      "subtract time:\t 0:00:00.089966\n",
      "divide time:\t 0:00:00.175842\n",
      "multiply time:\t 0:00:00.261440\n",
      "\n",
      "Shape: (10000, 10000) Device: /gpu:0 \n",
      "\n",
      "CPU times: user 187 ms, sys: 108 ms, total: 295 ms\n",
      "Wall time: 273 ms\n"
     ]
    }
   ],
   "source": [
    "%%time\n",
    "\n",
    "device_name = \"/gpu:0\"\n",
    "\n",
    "shape = (shapeMtx, shapeMtx)\n",
    "\n",
    "print(\"Tensorflow Version:\", tf.__version__, '\\n')\n",
    "\n",
    "with tf.device(device_name):\n",
    "    A = tf.random_uniform(shape=shape, minval=0, maxval=1)\n",
    "    B = tf.random_uniform(shape=shape, minval=0, maxval=1)\n",
    "    \n",
    "    subtract_operation = tf.subtract(A, B)\n",
    "    divide_operation = tf.divide(A, B)\n",
    "    multiply_operation = tf.multiply(A, B)\n",
    "\n",
    "startTime = datetime.now()\n",
    "with tf.Session(config=tf.ConfigProto(allow_soft_placement=True, log_device_placement=True)) as session:\n",
    "    session.run(subtract_operation)\n",
    "    print(\"subtract time:\\t\", datetime.now() - startTime)\n",
    "    session.run(divide_operation)\n",
    "    print(\"divide time:\\t\", datetime.now() - startTime)\n",
    "    session.run(multiply_operation)\n",
    "    print(\"multiply time:\\t\", datetime.now() - startTime)\n",
    "\n",
    "print(\"\\nShape:\", shape, \"Device:\", device_name, '\\n')"
   ]
  },
  {
   "cell_type": "code",
   "execution_count": null,
   "metadata": {
    "collapsed": true
   },
   "outputs": [],
   "source": []
  }
 ],
 "metadata": {
  "kernelspec": {
   "display_name": "Python 3",
   "language": "python",
   "name": "python3"
  },
  "language_info": {
   "codemirror_mode": {
    "name": "ipython",
    "version": 3
   },
   "file_extension": ".py",
   "mimetype": "text/x-python",
   "name": "python",
   "nbconvert_exporter": "python",
   "pygments_lexer": "ipython3",
   "version": "3.6.3"
  }
 },
 "nbformat": 4,
 "nbformat_minor": 2
}
