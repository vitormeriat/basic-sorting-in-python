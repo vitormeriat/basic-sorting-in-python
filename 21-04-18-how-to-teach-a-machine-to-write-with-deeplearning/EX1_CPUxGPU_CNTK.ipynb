{
 "cells": [
  {
   "cell_type": "markdown",
   "metadata": {},
   "source": [
    "# Processamento em GPU x CPU com CNTK \n"
   ]
  },
  {
   "cell_type": "code",
   "execution_count": 2,
   "metadata": {},
   "outputs": [],
   "source": [
    "import sys\n",
    "import numpy as np\n",
    "import cntk as C\n",
    "import time\n",
    "from datetime import datetime"
   ]
  },
  {
   "cell_type": "markdown",
   "metadata": {},
   "source": [
    "## CPU"
   ]
  },
  {
   "cell_type": "code",
   "execution_count": 2,
   "metadata": {},
   "outputs": [
    {
     "name": "stdout",
     "output_type": "stream",
     "text": [
      "CNTK Version:  2.3\n",
      "Device: CPU\n",
      "Shape: 9900 \n",
      "\n",
      "Time taken: 0:00:17.715532 \n",
      "\n",
      "\n",
      "\n",
      "\n",
      "Wall time: 17.7 s\n"
     ]
    }
   ],
   "source": [
    "%%time\n",
    "\n",
    "shapeMtx = 9900\n",
    "\n",
    "print(\"CNTK Version: \", C.__version__)\n",
    "\n",
    "C.device.try_set_default_device(C.device.cpu())\n",
    "\n",
    "device_name=C.use_default_device()\n",
    "\n",
    "print(\"Device:\", device_name)\n",
    "\n",
    "startTime = datetime.now()\n",
    "\n",
    "a = C.random.normal((shapeMtx, shapeMtx))\n",
    "b = C.random.normal((shapeMtx, shapeMtx))\n",
    "\n",
    "# Subtraction\n",
    "C.minus(a,b).eval()\n",
    "# Additive\n",
    "C.plus(a,b).eval()\n",
    "# Element-wise division\n",
    "C.element_divide(a,b).eval()\n",
    "\n",
    "\n",
    "print(\"Shape:\", shapeMtx, '\\n')\n",
    "print(\"Time taken:\", datetime.now() - startTime, '\\n')\n",
    "\n",
    "print(\"\\n\" * 2)"
   ]
  },
  {
   "cell_type": "markdown",
   "metadata": {},
   "source": [
    "## GPU"
   ]
  },
  {
   "cell_type": "code",
   "execution_count": 3,
   "metadata": {},
   "outputs": [
    {
     "name": "stdout",
     "output_type": "stream",
     "text": [
      "CNTK Version:  2.3\n",
      "Device: GPU[0] GeForce 940MX\n",
      "Shape: 9900\n",
      "Time taken: 0:00:04.784809\n",
      "\n",
      "\n",
      "\n",
      "Wall time: 5.86 s\n"
     ]
    }
   ],
   "source": [
    "%%time\n",
    "\n",
    "shapeMtx = 9900\n",
    "\n",
    "print(\"CNTK Version: \", C.__version__)\n",
    "\n",
    "C.device.try_set_default_device(C.device.gpu(0))\n",
    "\n",
    "device_name=C.use_default_device()\n",
    "\n",
    "print(\"Device:\", device_name)\n",
    "\n",
    "startTime = datetime.now()\n",
    "\n",
    "a = C.random.normal((shapeMtx, shapeMtx))\n",
    "b = C.random.normal((shapeMtx, shapeMtx))\n",
    "\n",
    "# Subtraction\n",
    "C.minus(a,b).eval()\n",
    "# Additive\n",
    "C.plus(a,b).eval()\n",
    "# Element-wise division\n",
    "C.element_divide(a,b).eval()\n",
    "\n",
    "\n",
    "print(\"Shape:\", shapeMtx)\n",
    "print(\"Time taken:\", datetime.now() - startTime)\n",
    "\n",
    "print(\"\\n\" * 2)"
   ]
  },
  {
   "cell_type": "code",
   "execution_count": null,
   "metadata": {},
   "outputs": [],
   "source": []
  }
 ],
 "metadata": {
  "kernelspec": {
   "display_name": "Python 3",
   "language": "python",
   "name": "python3"
  },
  "language_info": {
   "codemirror_mode": {
    "name": "ipython",
    "version": 3
   },
   "file_extension": ".py",
   "mimetype": "text/x-python",
   "name": "python",
   "nbconvert_exporter": "python",
   "pygments_lexer": "ipython3",
   "version": "3.6.4"
  }
 },
 "nbformat": 4,
 "nbformat_minor": 2
}
