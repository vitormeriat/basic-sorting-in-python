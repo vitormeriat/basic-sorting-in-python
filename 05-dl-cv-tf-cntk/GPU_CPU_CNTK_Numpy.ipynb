{
 "cells": [
  {
   "cell_type": "markdown",
   "metadata": {},
   "source": [
    "# Processamento em GPU x CPU com CNTK & Numpy\n"
   ]
  },
  {
   "cell_type": "code",
   "execution_count": 3,
   "metadata": {},
   "outputs": [],
   "source": [
    "import sys\n",
    "import time\n",
    "import cntk as C\n",
    "import numpy as np\n",
    "import tensorflow as tf\n",
    "from datetime import datetime\n",
    "\n",
    "shapeMtx = 14000"
   ]
  },
  {
   "cell_type": "markdown",
   "metadata": {},
   "source": [
    "# Numpy"
   ]
  },
  {
   "cell_type": "code",
   "execution_count": 4,
   "metadata": {},
   "outputs": [
    {
     "name": "stdout",
     "output_type": "stream",
     "text": [
      "Numpy Version:  1.14.2\n",
      "Shape: 14000 \n",
      "\n",
      "Wall time: 24.5 s\n"
     ]
    }
   ],
   "source": [
    "%%time\n",
    "\n",
    "print(\"Numpy Version: \", np.__version__)\n",
    "\n",
    "A=np.random.normal(size=(shapeMtx, shapeMtx))\n",
    "B=np.random.normal(size=(shapeMtx, shapeMtx))\n",
    "\n",
    "subtract = np.subtract(A, B)\n",
    "add = np.add(A, B)\n",
    "divide = np.divide(A, B)\n",
    "\n",
    "print(\"Shape:\", shapeMtx, '\\n')"
   ]
  },
  {
   "cell_type": "markdown",
   "metadata": {},
   "source": [
    "## CPU"
   ]
  },
  {
   "cell_type": "code",
   "execution_count": 3,
   "metadata": {},
   "outputs": [
    {
     "name": "stdout",
     "output_type": "stream",
     "text": [
      "CNTK Version:  2.3\n",
      "Device: CPU\n",
      "Shape: 1400 \n",
      "\n",
      "Wall time: 610 ms\n"
     ]
    }
   ],
   "source": [
    "%%time\n",
    "\n",
    "print(\"CNTK Version: \", C.__version__)\n",
    "\n",
    "C.device.try_set_default_device(C.device.cpu())\n",
    "\n",
    "device_name=C.use_default_device()\n",
    "\n",
    "print(\"Device:\", device_name)\n",
    "\n",
    "a = C.random.normal((shapeMtx, shapeMtx))\n",
    "b = C.random.normal((shapeMtx, shapeMtx))\n",
    "\n",
    "# Subtraction\n",
    "C.minus(a,b).eval()\n",
    "# Additive\n",
    "C.plus(a,b).eval()\n",
    "# Element-wise division\n",
    "C.element_divide(a,b).eval()\n",
    "\n",
    "\n",
    "print(\"Shape:\", shapeMtx, '\\n')"
   ]
  },
  {
   "cell_type": "markdown",
   "metadata": {},
   "source": [
    "## GPU"
   ]
  },
  {
   "cell_type": "code",
   "execution_count": 5,
   "metadata": {},
   "outputs": [
    {
     "name": "stdout",
     "output_type": "stream",
     "text": [
      "CNTK Version:  2.3\n",
      "Device: GPU[0] GeForce 940MX\n",
      "Shape: 14000 \n",
      "\n",
      "Wall time: 7.04 s\n"
     ]
    }
   ],
   "source": [
    "%%time\n",
    "\n",
    "print(\"CNTK Version: \", C.__version__)\n",
    "\n",
    "C.device.try_set_default_device(C.device.gpu(0))\n",
    "\n",
    "device_name=C.use_default_device()\n",
    "\n",
    "print(\"Device:\", device_name)\n",
    "\n",
    "a = C.random.normal((shapeMtx, shapeMtx))\n",
    "b = C.random.normal((shapeMtx, shapeMtx))\n",
    "\n",
    "# Subtraction\n",
    "C.minus(a,b).eval()\n",
    "# Additive\n",
    "C.plus(a,b).eval()\n",
    "# Element-wise division\n",
    "C.element_divide(a,b).eval()\n",
    "\n",
    "print(\"Shape:\", shapeMtx, '\\n')"
   ]
  },
  {
   "cell_type": "code",
   "execution_count": null,
   "metadata": {},
   "outputs": [],
   "source": [
    "print('1º: ', A[0][0])\n",
    "print('2º: ', B[0][0])\n",
    "print('Op Sub: ', subtract[0][0])\n",
    "print('Op Add: ', add[0][0])\n",
    "print('Op Div: ', divide[0][0])\n",
    "print('Sub: ', (A[0][0]) - (B[0][0]))\n",
    "print('Add: ', (A[0][0]) + (B[0][0]))\n",
    "print('Div: ', (A[0][0]) / (B[0][0]))"
   ]
  },
  {
   "cell_type": "code",
   "execution_count": null,
   "metadata": {},
   "outputs": [],
   "source": []
  }
 ],
 "metadata": {
  "kernelspec": {
   "display_name": "Python 3",
   "language": "python",
   "name": "python3"
  },
  "language_info": {
   "codemirror_mode": {
    "name": "ipython",
    "version": 3
   },
   "file_extension": ".py",
   "mimetype": "text/x-python",
   "name": "python",
   "nbconvert_exporter": "python",
   "pygments_lexer": "ipython3",
   "version": "3.6.4"
  }
 },
 "nbformat": 4,
 "nbformat_minor": 2
}
