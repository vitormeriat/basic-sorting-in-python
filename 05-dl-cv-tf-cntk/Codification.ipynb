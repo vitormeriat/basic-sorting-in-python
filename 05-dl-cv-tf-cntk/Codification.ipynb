{
 "cells": [
  {
   "cell_type": "markdown",
   "metadata": {},
   "source": [
    "# Codificação\n",
    "\n",
    "* Digitalização de imagem\n",
    "* Quantização\n",
    "* Processamento de sinais"
   ]
  },
  {
   "cell_type": "code",
   "execution_count": 1,
   "metadata": {},
   "outputs": [
    {
     "name": "stderr",
     "output_type": "stream",
     "text": [
      "C:\\Users\\vitor\\Anaconda3\\envs\\deeplearning\\lib\\site-packages\\skimage\\io\\_plugins\\matplotlib_plugin.py:51: FutureWarning: Conversion of the second argument of issubdtype from `float` to `np.floating` is deprecated. In future, it will be treated as `np.float64 == np.dtype(float).type`.\n",
      "  out_of_range_float = (np.issubdtype(image.dtype, np.float) and\n",
      "C:\\Users\\vitor\\Anaconda3\\envs\\deeplearning\\lib\\site-packages\\matplotlib\\axes\\_base.py:1400: MatplotlibDeprecationWarning: The 'box-forced' keyword argument is deprecated since 2.2.\n",
      "  \" since 2.2.\", cbook.mplDeprecation)\n"
     ]
    },
    {
     "data": {
      "text/plain": [
       "<matplotlib.image.AxesImage at 0x2ca3dca52e8>"
      ]
     },
     "execution_count": 1,
     "metadata": {},
     "output_type": "execute_result"
    },
    {
     "data": {
      "image/png": "[encoded data removed]",
      "text/plain": [
       "<Figure size 432x288 with 1 Axes>"
      ]
     },
     "metadata": {},
     "output_type": "display_data"
    }
   ],
   "source": [
    "import skimage\n",
    "from skimage.io import imread\n",
    "from skimage.io import imshow\n",
    "%matplotlib inline\n",
    "\n",
    "digit = imread('img/9-minist.png')\n",
    "\n",
    "imshow(digit)"
   ]
  },
  {
   "cell_type": "code",
   "execution_count": 2,
   "metadata": {},
   "outputs": [
    {
     "data": {
      "text/plain": [
       "(28, 28)"
      ]
     },
     "execution_count": 2,
     "metadata": {},
     "output_type": "execute_result"
    }
   ],
   "source": [
    "digit.shape"
   ]
  },
  {
   "cell_type": "code",
   "execution_count": 3,
   "metadata": {
    "scrolled": true
   },
   "outputs": [
    {
     "data": {
      "text/plain": [
       "array([[  0,   0,   0,   0,   0,   0,   0,   0,   0,   0,   0,   0,   0,\n",
       "          0,   0,   0,   0,   0,   0,   0,   0,   0,   0,   0,   0,   0,\n",
       "          0,   0],\n",
       "       [  0,   0,   0,   0,   0,   0,   0,   0,   0,   0,   0,   0,   0,\n",
       "          0,   0,   0,   0,   0,   0,   0,   0,   0,   0,   0,   0,   0,\n",
       "          0,   0],\n",
       "       [  0,   0,   0,   0,   0,   0,   0,   0,   0,   0,   0,   0,   0,\n",
       "          0,   0,   0,   0,   0,   0,   0,   0,   0,   0,   0,   0,   0,\n",
       "          0,   0],\n",
       "       [  0,   0,   0,   0,   0,   0,   0,   0,   0,   0,   0,   0,   0,\n",
       "          0,   0,   0,   0,   0,   0,   0,   0,   0,   0,   0,   0,   0,\n",
       "          0,   0],\n",
       "       [  0,   0,   0,   0,   0,   0,   0,   0,   0,   0,   0,   0,   0,\n",
       "          0,   0,   0,   0,   0,   0,   0,   0,   0,   0,   0,   0,   0,\n",
       "          0,   0],\n",
       "       [  0,   0,   0,   0,   0,   0,   0,   0,   0,   0,   0,   0,   0,\n",
       "          0,   0,   0,   0,   0,   0,   0,   0,   0,   0,   0,   0,   0,\n",
       "          0,   0],\n",
       "       [  0,   0,   0,   0,   0,   0,   0,   0,   0,   0,   0,   0,  45,\n",
       "        154, 208, 248, 230, 254, 255, 138,   0,   0,   0,   0,   0,   0,\n",
       "          0,   0],\n",
       "       [  0,   0,   0,   0,   0,   0,   0,   0,   0,   0,   0,  40, 205,\n",
       "        254, 254, 254, 254, 254, 254, 213,  31,   0,   0,   0,   0,   0,\n",
       "          0,   0],\n",
       "       [  0,   0,   0,   0,   0,   0,   0,   0,   0,   0,  17, 210, 254,\n",
       "        254, 254, 254, 236, 254, 254, 254, 125,   0,   0,   0,   0,   0,\n",
       "          0,   0],\n",
       "       [  0,   0,   0,   0,   0,   0,   0,   0,   0,   0,  98, 254, 254,\n",
       "        254, 152,  40,  26, 151, 254, 254, 168,   0,   0,   0,   0,   0,\n",
       "          0,   0],\n",
       "       [  0,   0,   0,   0,   0,   0,   0,   0,   0,   0, 166, 254, 254,\n",
       "        202,  44,   0,  10, 207, 254, 254, 205,   0,   0,   0,   0,   0,\n",
       "          0,   0],\n",
       "       [  0,   0,   0,   0,   0,   0,   0,   0,   0,   0,  53, 252, 254,\n",
       "        242,  83, 136, 180, 254, 254, 254, 125,   0,   0,   0,   0,   0,\n",
       "          0,   0],\n",
       "       [  0,   0,   0,   0,   0,   0,   0,   0,   0,   0,   0, 189, 254,\n",
       "        254, 254, 254, 254, 254, 254, 254,  63,   0,   0,   0,   0,   0,\n",
       "          0,   0],\n",
       "       [  0,   0,   0,   0,   0,   0,   0,   0,   0,   0,   0,   3,  56,\n",
       "        209, 254, 254, 254, 254, 254, 201,   1,   0,   0,   0,   0,   0,\n",
       "          0,   0],\n",
       "       [  0,   0,   0,   0,   0,   0,   0,   0,   0,   0,   0,   0,   0,\n",
       "         88, 228, 254, 254, 254, 238,  92,   0,   0,   0,   0,   0,   0,\n",
       "          0,   0],\n",
       "       [  0,   0,   0,   0,   0,   0,   0,   0,   0,   0,   0,   0,   0,\n",
       "        103, 248, 254, 254, 254,  61,   0,   0,   0,   0,   0,   0,   0,\n",
       "          0,   0],\n",
       "       [  0,   0,   0,   0,   0,   0,   0,   0,   0,   0,   0,   0,  91,\n",
       "        248, 254, 254, 253, 166,   2,   0,   0,   0,   0,   0,   0,   0,\n",
       "          0,   0],\n",
       "       [  0,   0,   0,   0,   0,   0,   0,   0,   0,   0,   0, 100, 230,\n",
       "        254, 254, 170, 113,   0,   0,   0,   0,   0,   0,   0,   0,   0,\n",
       "          0,   0],\n",
       "       [  0,   0,   0,   0,   0,   0,   0,   0,   0,   0,  95, 253, 254,\n",
       "        254, 229,  16,   0,   0,   0,   0,   0,   0,   0,   0,   0,   0,\n",
       "          0,   0],\n",
       "       [  0,   0,   0,   0,   0,   0,   0,   0,   0,  95, 227, 254, 254,\n",
       "        254, 133,   0,   0,   0,   0,   0,   0,   0,   0,   0,   0,   0,\n",
       "          0,   0],\n",
       "       [  0,   0,   0,   0,   0,   0,   0,   0,  38, 228, 254, 254, 254,\n",
       "        202,  20,   0,   0,   0,   0,   0,   0,   0,   0,   0,   0,   0,\n",
       "          0,   0],\n",
       "       [  0,   0,   0,   0,   0,   0,   0,   0, 193, 254, 254, 254, 202,\n",
       "         21,   0,   0,   0,   0,   0,   0,   0,   0,   0,   0,   0,   0,\n",
       "          0,   0],\n",
       "       [  0,   0,   0,   0,   0,   0,   0,  91, 246, 254, 254, 242,  90,\n",
       "          0,   0,   0,   0,   0,   0,   0,   0,   0,   0,   0,   0,   0,\n",
       "          0,   0],\n",
       "       [  0,   0,   0,   0,   0,   0,  35, 242, 254, 254, 254, 141,   0,\n",
       "          0,   0,   0,   0,   0,   0,   0,   0,   0,   0,   0,   0,   0,\n",
       "          0,   0],\n",
       "       [  0,   0,   0,   0,   0,   0,   0, 214, 254, 254, 185,  23,   0,\n",
       "          0,   0,   0,   0,   0,   0,   0,   0,   0,   0,   0,   0,   0,\n",
       "          0,   0],\n",
       "       [  0,   0,   0,   0,   0,   0,   0, 183, 254, 247,  24,   0,   0,\n",
       "          0,   0,   0,   0,   0,   0,   0,   0,   0,   0,   0,   0,   0,\n",
       "          0,   0],\n",
       "       [  0,   0,   0,   0,   0,   0,   0,   0,   0,   0,   0,   0,   0,\n",
       "          0,   0,   0,   0,   0,   0,   0,   0,   0,   0,   0,   0,   0,\n",
       "          0,   0],\n",
       "       [  0,   0,   0,   0,   0,   0,   0,   0,   0,   0,   0,   0,   0,\n",
       "          0,   0,   0,   0,   0,   0,   0,   0,   0,   0,   0,   0,   0,\n",
       "          0,   0]], dtype=uint8)"
      ]
     },
     "execution_count": 3,
     "metadata": {},
     "output_type": "execute_result"
    }
   ],
   "source": [
    "digit"
   ]
  },
  {
   "cell_type": "code",
   "execution_count": 4,
   "metadata": {
    "scrolled": false
   },
   "outputs": [
    {
     "name": "stdout",
     "output_type": "stream",
     "text": [
      "000 000 000 000 000 000 000 000 000 000 000 000 000 000 000 000 000 000 000 000 000 000 000 000 000 000 000 000\n",
      "000 000 000 000 000 000 000 000 000 000 000 000 000 000 000 000 000 000 000 000 000 000 000 000 000 000 000 000\n",
      "000 000 000 000 000 000 000 000 000 000 000 000 000 000 000 000 000 000 000 000 000 000 000 000 000 000 000 000\n",
      "000 000 000 000 000 000 000 000 000 000 000 000 000 000 000 000 000 000 000 000 000 000 000 000 000 000 000 000\n",
      "000 000 000 000 000 000 000 000 000 000 000 000 000 000 000 000 000 000 000 000 000 000 000 000 000 000 000 000\n",
      "000 000 000 000 000 000 000 000 000 000 000 000 000 000 000 000 000 000 000 000 000 000 000 000 000 000 000 000\n",
      "000 000 000 000 000 000 000 000 000 000 000 000 045 154 208 248 230 254 255 138 000 000 000 000 000 000 000 000\n",
      "000 000 000 000 000 000 000 000 000 000 000 040 205 254 254 254 254 254 254 213 031 000 000 000 000 000 000 000\n",
      "000 000 000 000 000 000 000 000 000 000 017 210 254 254 254 254 236 254 254 254 125 000 000 000 000 000 000 000\n",
      "000 000 000 000 000 000 000 000 000 000 098 254 254 254 152 040 026 151 254 254 168 000 000 000 000 000 000 000\n",
      "000 000 000 000 000 000 000 000 000 000 166 254 254 202 044 000 010 207 254 254 205 000 000 000 000 000 000 000\n",
      "000 000 000 000 000 000 000 000 000 000 053 252 254 242 083 136 180 254 254 254 125 000 000 000 000 000 000 000\n",
      "000 000 000 000 000 000 000 000 000 000 000 189 254 254 254 254 254 254 254 254 063 000 000 000 000 000 000 000\n",
      "000 000 000 000 000 000 000 000 000 000 000 003 056 209 254 254 254 254 254 201 001 000 000 000 000 000 000 000\n",
      "000 000 000 000 000 000 000 000 000 000 000 000 000 088 228 254 254 254 238 092 000 000 000 000 000 000 000 000\n",
      "000 000 000 000 000 000 000 000 000 000 000 000 000 103 248 254 254 254 061 000 000 000 000 000 000 000 000 000\n",
      "000 000 000 000 000 000 000 000 000 000 000 000 091 248 254 254 253 166 002 000 000 000 000 000 000 000 000 000\n",
      "000 000 000 000 000 000 000 000 000 000 000 100 230 254 254 170 113 000 000 000 000 000 000 000 000 000 000 000\n",
      "000 000 000 000 000 000 000 000 000 000 095 253 254 254 229 016 000 000 000 000 000 000 000 000 000 000 000 000\n",
      "000 000 000 000 000 000 000 000 000 095 227 254 254 254 133 000 000 000 000 000 000 000 000 000 000 000 000 000\n",
      "000 000 000 000 000 000 000 000 038 228 254 254 254 202 020 000 000 000 000 000 000 000 000 000 000 000 000 000\n",
      "000 000 000 000 000 000 000 000 193 254 254 254 202 021 000 000 000 000 000 000 000 000 000 000 000 000 000 000\n",
      "000 000 000 000 000 000 000 091 246 254 254 242 090 000 000 000 000 000 000 000 000 000 000 000 000 000 000 000\n",
      "000 000 000 000 000 000 035 242 254 254 254 141 000 000 000 000 000 000 000 000 000 000 000 000 000 000 000 000\n",
      "000 000 000 000 000 000 000 214 254 254 185 023 000 000 000 000 000 000 000 000 000 000 000 000 000 000 000 000\n",
      "000 000 000 000 000 000 000 183 254 247 024 000 000 000 000 000 000 000 000 000 000 000 000 000 000 000 000 000\n",
      "000 000 000 000 000 000 000 000 000 000 000 000 000 000 000 000 000 000 000 000 000 000 000 000 000 000 000 000\n",
      "000 000 000 000 000 000 000 000 000 000 000 000 000 000 000 000 000 000 000 000 000 000 000 000 000 000 000 000\n"
     ]
    }
   ],
   "source": [
    "for row in digit:\n",
    "    print(' '.join(['{:03d}'.format(pixel) for pixel in row]))"
   ]
  },
  {
   "cell_type": "code",
   "execution_count": null,
   "metadata": {},
   "outputs": [],
   "source": []
  }
 ],
 "metadata": {
  "kernelspec": {
   "display_name": "Python 3",
   "language": "python",
   "name": "python3"
  },
  "language_info": {
   "codemirror_mode": {
    "name": "ipython",
    "version": 3
   },
   "file_extension": ".py",
   "mimetype": "text/x-python",
   "name": "python",
   "nbconvert_exporter": "python",
   "pygments_lexer": "ipython3",
   "version": "3.6.4"
  }
 },
 "nbformat": 4,
 "nbformat_minor": 2
}
